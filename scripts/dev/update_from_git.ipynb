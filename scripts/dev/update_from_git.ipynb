{
 "cells": [
  {
   "cell_type": "code",
   "execution_count": null,
   "id": "a888829c",
   "metadata": {},
   "outputs": [],
   "source": [
    "# Imports\n",
    "from dotenv import load_dotenv\n",
    "import pyfabricops as pf\n",
    "import os\n",
    "from pathlib import Path\n",
    "\n",
    "\n",
    "# Setups\n",
    "pf.set_auth_provider('env')\n",
    "pf.setup_logging(format_style='minimal', level='info') "
   ]
  },
  {
   "cell_type": "code",
   "execution_count": null,
   "id": "65d6d991",
   "metadata": {},
   "outputs": [],
   "source": [
    "# Find root path\n",
    "def find_root_path(\n",
    "    start: Path = None,\n",
    "    markers: list[str] = None\n",
    ") -> Path:\n",
    "    start = (start or Path.cwd()).resolve()\n",
    "    markers = markers or [\n",
    "        \".git\",         \n",
    "        \".gitignore\",\n",
    "    ]\n",
    "    for directory in [start, *start.parents]:\n",
    "        for m in markers:\n",
    "            if (directory / m).exists():\n",
    "                return directory\n",
    "    return start\n",
    "\n",
    "root_path = find_root_path()\n",
    "print(f\"Root path: {root_path}\")"
   ]
  },
  {
   "cell_type": "code",
   "execution_count": null,
   "id": "fcca09f9",
   "metadata": {},
   "outputs": [],
   "source": [
    "# Capture git info\n",
    "branches_path = Path(root_path) / 'branches.json'\n",
    "branch = pf.get_current_branch()\n",
    "workspace_suffix = pf.get_workspace_suffix(branch, path = branches_path) \n",
    "print('Branch:', branch, 'Workspace Suffix:', workspace_suffix) "
   ]
  },
  {
   "cell_type": "code",
   "execution_count": null,
   "id": "a7081429",
   "metadata": {},
   "outputs": [],
   "source": [
    "# Project config\n",
    "project = 'PF_002_Fabric'\n",
    "project_path = Path(root_path)/'src'\n",
    "workspace_alias ='PF_002_Fabric'\n",
    "workspace_name = workspace_alias + workspace_suffix\n",
    "capacity = '7732a1eb-3893-4642-a85c-93fc3f35d076' \n",
    "print('Workspace name: ', workspace_name) "
   ]
  },
  {
   "cell_type": "code",
   "execution_count": null,
   "id": "f7a0f707",
   "metadata": {},
   "outputs": [],
   "source": [
    "# Load config\n",
    "config_path = Path(project_path)/'config.json'\n",
    "config = pf.read_json(config_path)\n",
    "workspace_id = config[branch][workspace_alias]['workspace_config']['workspace_id']\n",
    "workspace_id"
   ]
  },
  {
   "cell_type": "code",
   "execution_count": null,
   "id": "afd1679c",
   "metadata": {},
   "outputs": [],
   "source": [
    "# Check status beetwen workspace and git\n",
    "pf.git_status(workspace_id)"
   ]
  },
  {
   "cell_type": "code",
   "execution_count": null,
   "id": "22bd77e7",
   "metadata": {},
   "outputs": [],
   "source": [
    "# Commit from workspace to git\n",
    "pf.update_from_git(\n",
    "    workspace_id\n",
    ") "
   ]
  }
 ],
 "metadata": {
  "kernelspec": {
   "display_name": "Python 3",
   "language": "python",
   "name": "python3"
  },
  "language_info": {
   "codemirror_mode": {
    "name": "ipython",
    "version": 3
   },
   "file_extension": ".py",
   "mimetype": "text/x-python",
   "name": "python",
   "nbconvert_exporter": "python",
   "pygments_lexer": "ipython3",
   "version": "3.12.10"
  }
 },
 "nbformat": 4,
 "nbformat_minor": 5
}
