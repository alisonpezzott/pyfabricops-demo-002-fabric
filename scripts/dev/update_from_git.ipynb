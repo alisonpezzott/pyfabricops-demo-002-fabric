{
 "cells": [
  {
   "cell_type": "code",
   "execution_count": 1,
   "id": "a888829c",
   "metadata": {},
   "outputs": [],
   "source": [
    "# Imports\n",
    "from dotenv import load_dotenv\n",
    "import pyfabricops as pf\n",
    "import os\n",
    "from pathlib import Path\n",
    "\n",
    "\n",
    "# Setups\n",
    "pf.set_auth_provider('env')\n",
    "pf.setup_logging(format_style='minimal', level='info') "
   ]
  },
  {
   "cell_type": "code",
   "execution_count": 2,
   "id": "65d6d991",
   "metadata": {},
   "outputs": [
    {
     "name": "stdout",
     "output_type": "stream",
     "text": [
      "Root path: C:\\repos\\pyfabricops-demo-002-fabric\n"
     ]
    }
   ],
   "source": [
    "# Find root path\n",
    "def find_root_path(\n",
    "    start: Path = None,\n",
    "    markers: list[str] = None\n",
    ") -> Path:\n",
    "    start = (start or Path.cwd()).resolve()\n",
    "    markers = markers or [\n",
    "        \".git\",         \n",
    "        \".gitignore\",\n",
    "    ]\n",
    "    for directory in [start, *start.parents]:\n",
    "        for m in markers:\n",
    "            if (directory / m).exists():\n",
    "                return directory\n",
    "    return start\n",
    "\n",
    "root_path = find_root_path()\n",
    "print(f\"Root path: {root_path}\")"
   ]
  },
  {
   "cell_type": "code",
   "execution_count": 3,
   "id": "fcca09f9",
   "metadata": {},
   "outputs": [
    {
     "name": "stdout",
     "output_type": "stream",
     "text": [
      "Branch: dev Workspace Suffix: -DEV\n"
     ]
    }
   ],
   "source": [
    "# Capture git info\n",
    "branches_path = Path(root_path) / 'branches.json'\n",
    "branch = pf.get_current_branch()\n",
    "workspace_suffix = pf.get_workspace_suffix(branch, path = branches_path) \n",
    "print('Branch:', branch, 'Workspace Suffix:', workspace_suffix) "
   ]
  },
  {
   "cell_type": "code",
   "execution_count": 4,
   "id": "a7081429",
   "metadata": {},
   "outputs": [
    {
     "name": "stdout",
     "output_type": "stream",
     "text": [
      "Workspace name:  PF_002_Fabric-DEV\n"
     ]
    }
   ],
   "source": [
    "# Project config\n",
    "project = 'PF_002_Fabric'\n",
    "project_path = Path(root_path)/'src'\n",
    "workspace_alias ='PF_002_Fabric'\n",
    "workspace_name = workspace_alias + workspace_suffix\n",
    "capacity = '7732a1eb-3893-4642-a85c-93fc3f35d076' \n",
    "print('Workspace name: ', workspace_name) "
   ]
  },
  {
   "cell_type": "code",
   "execution_count": 5,
   "id": "f7a0f707",
   "metadata": {},
   "outputs": [
    {
     "data": {
      "text/plain": [
       "'8db97391-07e4-439b-9ab7-35d58bc354ad'"
      ]
     },
     "execution_count": 5,
     "metadata": {},
     "output_type": "execute_result"
    }
   ],
   "source": [
    "# Load config\n",
    "config_path = Path(project_path)/'config.json'\n",
    "config = pf.read_json(config_path)\n",
    "workspace_id = config[branch][workspace_alias]['workspace_config']['workspace_id']\n",
    "workspace_id"
   ]
  },
  {
   "cell_type": "code",
   "execution_count": null,
   "id": "560a82a3",
   "metadata": {},
   "outputs": [],
   "source": [
    "pf.get_my_git_credentials(workspace_id, credential_type='spn') "
   ]
  },
  {
   "cell_type": "code",
   "execution_count": null,
   "id": "5cba3e9a",
   "metadata": {},
   "outputs": [],
   "source": [
    "pf.update_my_git_connection(\n",
    "    workspace_id,\n",
    "    credential_type='spn',\n",
    "    request_body_type='UpdateGitCredentialsToConfiguredConnectionRequest',\n",
    "    connection_id='3c94d309-56aa-4be7-82a1-2bde73b54d78'\n",
    ")"
   ]
  },
  {
   "cell_type": "code",
   "execution_count": 8,
   "id": "afd1679c",
   "metadata": {},
   "outputs": [
    {
     "name": "stdout",
     "output_type": "stream",
     "text": [
      "i Successfully Git status retrieved for workspace.\n"
     ]
    },
    {
     "data": {
      "application/vnd.microsoft.datawrangler.viewer.v0+json": {
       "columns": [
        {
         "name": "index",
         "rawType": "int64",
         "type": "integer"
        },
        {
         "name": "remoteChange",
         "rawType": "object",
         "type": "string"
        },
        {
         "name": "workspaceChange",
         "rawType": "object",
         "type": "unknown"
        },
        {
         "name": "conflictType",
         "rawType": "object",
         "type": "string"
        },
        {
         "name": "itemMetadata_itemIdentifier_logicalId",
         "rawType": "object",
         "type": "string"
        },
        {
         "name": "itemMetadata_itemType",
         "rawType": "object",
         "type": "string"
        },
        {
         "name": "itemMetadata_displayName",
         "rawType": "object",
         "type": "string"
        }
       ],
       "ref": "0690bc8c-8fc9-41f3-8980-58b9ed059f71",
       "rows": [
        [
         "0",
         "Added",
         null,
         "None",
         "3ea220ee-5d9a-4f6f-8ec3-2fc5b8925420",
         "report",
         "CustomersAnalysis"
        ],
        [
         "1",
         "Added",
         null,
         "None",
         "b87f305e-32ee-4606-9b69-42f8f6e8ccc3",
         "dataset",
         "CustomersAnalysis"
        ],
        [
         "2",
         "Added",
         null,
         "None",
         "e8b7c2f1-4a6d-4b9e-9e2a-3c7f2d8a1b5c",
         "report",
         "OtherAnalysis"
        ]
       ],
       "shape": {
        "columns": 6,
        "rows": 3
       }
      },
      "text/html": [
       "<div>\n",
       "<style scoped>\n",
       "    .dataframe tbody tr th:only-of-type {\n",
       "        vertical-align: middle;\n",
       "    }\n",
       "\n",
       "    .dataframe tbody tr th {\n",
       "        vertical-align: top;\n",
       "    }\n",
       "\n",
       "    .dataframe thead th {\n",
       "        text-align: right;\n",
       "    }\n",
       "</style>\n",
       "<table border=\"1\" class=\"dataframe\">\n",
       "  <thead>\n",
       "    <tr style=\"text-align: right;\">\n",
       "      <th></th>\n",
       "      <th>remoteChange</th>\n",
       "      <th>workspaceChange</th>\n",
       "      <th>conflictType</th>\n",
       "      <th>itemMetadata_itemIdentifier_logicalId</th>\n",
       "      <th>itemMetadata_itemType</th>\n",
       "      <th>itemMetadata_displayName</th>\n",
       "    </tr>\n",
       "  </thead>\n",
       "  <tbody>\n",
       "    <tr>\n",
       "      <th>0</th>\n",
       "      <td>Added</td>\n",
       "      <td>None</td>\n",
       "      <td>None</td>\n",
       "      <td>3ea220ee-5d9a-4f6f-8ec3-2fc5b8925420</td>\n",
       "      <td>report</td>\n",
       "      <td>CustomersAnalysis</td>\n",
       "    </tr>\n",
       "    <tr>\n",
       "      <th>1</th>\n",
       "      <td>Added</td>\n",
       "      <td>None</td>\n",
       "      <td>None</td>\n",
       "      <td>b87f305e-32ee-4606-9b69-42f8f6e8ccc3</td>\n",
       "      <td>dataset</td>\n",
       "      <td>CustomersAnalysis</td>\n",
       "    </tr>\n",
       "    <tr>\n",
       "      <th>2</th>\n",
       "      <td>Added</td>\n",
       "      <td>None</td>\n",
       "      <td>None</td>\n",
       "      <td>e8b7c2f1-4a6d-4b9e-9e2a-3c7f2d8a1b5c</td>\n",
       "      <td>report</td>\n",
       "      <td>OtherAnalysis</td>\n",
       "    </tr>\n",
       "  </tbody>\n",
       "</table>\n",
       "</div>"
      ],
      "text/plain": [
       "  remoteChange workspaceChange conflictType  \\\n",
       "0        Added            None         None   \n",
       "1        Added            None         None   \n",
       "2        Added            None         None   \n",
       "\n",
       "  itemMetadata_itemIdentifier_logicalId itemMetadata_itemType  \\\n",
       "0  3ea220ee-5d9a-4f6f-8ec3-2fc5b8925420                report   \n",
       "1  b87f305e-32ee-4606-9b69-42f8f6e8ccc3               dataset   \n",
       "2  e8b7c2f1-4a6d-4b9e-9e2a-3c7f2d8a1b5c                report   \n",
       "\n",
       "  itemMetadata_displayName  \n",
       "0        CustomersAnalysis  \n",
       "1        CustomersAnalysis  \n",
       "2            OtherAnalysis  "
      ]
     },
     "metadata": {},
     "output_type": "display_data"
    }
   ],
   "source": [
    "# Check status beetwen workspace and git\n",
    "changes = pf.git_status(workspace_id, credential_type='spn')\n",
    "display(pf.json_to_df(changes['changes'])) \n"
   ]
  },
  {
   "cell_type": "code",
   "execution_count": 9,
   "id": "22bd77e7",
   "metadata": {},
   "outputs": [
    {
     "name": "stdout",
     "output_type": "stream",
     "text": [
      "i Attempt 1/10: Checking Git status...\n",
      "i Successfully Git status retrieved for workspace.\n",
      "i Remote Commit: e5b56780114e93ea487074938f599fbfc231b46f | Workspace Head: 44fc83b02d54fde2177a374c9fa11cee502090ec\n",
      "i Workspace out of sync. Issuing updateFromGit request...\n",
      "i Update request sent successfully.\n",
      "i Waiting 20 seconds before rechecking status...\n",
      "i Successfully Git status retrieved for workspace.\n",
      "△ Post-update | Remote: e5b56780114e93ea487074938f599fbfc231b46f | Head: 44fc83b02d54fde2177a374c9fa11cee502090ec\n",
      "△ Workspace still not up to date; retrying...\n",
      "i Attempt 2/10: Checking Git status...\n",
      "i Successfully Git status retrieved for workspace.\n",
      "i Remote Commit: e5b56780114e93ea487074938f599fbfc231b46f | Workspace Head: 44fc83b02d54fde2177a374c9fa11cee502090ec\n",
      "i Workspace out of sync. Issuing updateFromGit request...\n",
      "✕ Failed to send update request: DuplicateDisplayNameAndType - There are duplicate display names for items with the same type.\n",
      "i Attempt 3/10: Checking Git status...\n",
      "i Successfully Git status retrieved for workspace.\n",
      "i Remote Commit: e5b56780114e93ea487074938f599fbfc231b46f | Workspace Head: e5b56780114e93ea487074938f599fbfc231b46f\n",
      "✓ Workspace is already up to date.\n"
     ]
    },
    {
     "data": {
      "text/plain": [
       "True"
      ]
     },
     "execution_count": 9,
     "metadata": {},
     "output_type": "execute_result"
    }
   ],
   "source": [
    "# Commit from workspace to git\n",
    "pf.update_from_git(\n",
    "    workspace_id,\n",
    "    credential_type='spn',\n",
    ") "
   ]
  }
 ],
 "metadata": {
  "kernelspec": {
   "display_name": "Python 3",
   "language": "python",
   "name": "python3"
  },
  "language_info": {
   "codemirror_mode": {
    "name": "ipython",
    "version": 3
   },
   "file_extension": ".py",
   "mimetype": "text/x-python",
   "name": "python",
   "nbconvert_exporter": "python",
   "pygments_lexer": "ipython3",
   "version": "3.12.10"
  }
 },
 "nbformat": 4,
 "nbformat_minor": 5
}
