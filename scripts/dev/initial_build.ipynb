{
 "cells": [
  {
   "cell_type": "code",
   "execution_count": 30,
   "id": "534ae817",
   "metadata": {},
   "outputs": [],
   "source": [
    "# Imports\n",
    "import pyfabricops as pf\n",
    "import os\n",
    "from pathlib import Path\n",
    "\n",
    "# Setups\n",
    "pf.set_auth_provider('env')\n",
    "pf.setup_logging(format_style='minimal', level='info') "
   ]
  },
  {
   "cell_type": "code",
   "execution_count": 31,
   "id": "1dee46b3",
   "metadata": {},
   "outputs": [
    {
     "name": "stdout",
     "output_type": "stream",
     "text": [
      "Root path: C:\\repos\\pyfabricops-demo-002-fabric\n"
     ]
    }
   ],
   "source": [
    "# Find root path\n",
    "def find_root_path(\n",
    "    start: Path = None,\n",
    "    markers: list[str] = None\n",
    ") -> Path:\n",
    "    start = (start or Path.cwd()).resolve()\n",
    "    markers = markers or [\n",
    "        \".git\",         \n",
    "        \".gitignore\",\n",
    "    ]\n",
    "    for directory in [start, *start.parents]:\n",
    "        for m in markers:\n",
    "            if (directory / m).exists():\n",
    "                return directory\n",
    "    return start\n",
    "\n",
    "root_path = find_root_path()\n",
    "print(f\"Root path: {root_path}\")"
   ]
  },
  {
   "cell_type": "code",
   "execution_count": 32,
   "id": "cbca57f1",
   "metadata": {},
   "outputs": [
    {
     "name": "stdout",
     "output_type": "stream",
     "text": [
      "Branch: dev Workspace Suffix: -DEV\n"
     ]
    }
   ],
   "source": [
    "# Capture git info\n",
    "branches_path = Path(root_path) / 'branches.json'\n",
    "branch = pf.get_current_branch()\n",
    "workspace_suffix = pf.get_workspace_suffix(branch, path = branches_path) \n",
    "print('Branch:', branch, 'Workspace Suffix:', workspace_suffix) "
   ]
  },
  {
   "cell_type": "code",
   "execution_count": 41,
   "id": "b393f0fb",
   "metadata": {},
   "outputs": [
    {
     "name": "stdout",
     "output_type": "stream",
     "text": [
      "Workspace name:  PF_002_Fabric-DEV\n"
     ]
    }
   ],
   "source": [
    "# Project config\n",
    "project = 'PF_002_Fabric'\n",
    "project_path = Path(root_path)/'src'\n",
    "workspace_alias ='PF_002_Fabric'\n",
    "workspace_name = workspace_alias + workspace_suffix\n",
    "capacity = '7732a1eb-3893-4642-a85c-93fc3f35d076' \n",
    "print('Workspace name: ', workspace_name) "
   ]
  },
  {
   "cell_type": "code",
   "execution_count": 37,
   "id": "fb0e79bf",
   "metadata": {},
   "outputs": [
    {
     "data": {
      "application/vnd.microsoft.datawrangler.viewer.v0+json": {
       "columns": [
        {
         "name": "index",
         "rawType": "int64",
         "type": "integer"
        },
        {
         "name": "user_uuid",
         "rawType": "object",
         "type": "string"
        },
        {
         "name": "user_type",
         "rawType": "object",
         "type": "string"
        },
        {
         "name": "role",
         "rawType": "object",
         "type": "string"
        }
       ],
       "ref": "0867dc40-0ad3-4f8c-ad59-32562970e797",
       "rows": [
        [
         "0",
         "cbe83b10-3b7c-4479-8168-e5281fabf7ea",
         "Group",
         "Admin"
        ],
        [
         "1",
         "9322eb4a-4132-4bd1-8df1-5cd3d1d2400b",
         "User",
         "Admin"
        ],
        [
         "2",
         "b025341a-965a-4c35-b12e-2af63e5eb58f",
         "User",
         "Contributor"
        ],
        [
         "3",
         "bde43861-55e1-4144-b572-be115312967f",
         "ServicePrincipal",
         "Admin"
        ]
       ],
       "shape": {
        "columns": 3,
        "rows": 4
       }
      },
      "text/html": [
       "<div>\n",
       "<style scoped>\n",
       "    .dataframe tbody tr th:only-of-type {\n",
       "        vertical-align: middle;\n",
       "    }\n",
       "\n",
       "    .dataframe tbody tr th {\n",
       "        vertical-align: top;\n",
       "    }\n",
       "\n",
       "    .dataframe thead th {\n",
       "        text-align: right;\n",
       "    }\n",
       "</style>\n",
       "<table border=\"1\" class=\"dataframe\">\n",
       "  <thead>\n",
       "    <tr style=\"text-align: right;\">\n",
       "      <th></th>\n",
       "      <th>user_uuid</th>\n",
       "      <th>user_type</th>\n",
       "      <th>role</th>\n",
       "    </tr>\n",
       "  </thead>\n",
       "  <tbody>\n",
       "    <tr>\n",
       "      <th>0</th>\n",
       "      <td>cbe83b10-3b7c-4479-8168-e5281fabf7ea</td>\n",
       "      <td>Group</td>\n",
       "      <td>Admin</td>\n",
       "    </tr>\n",
       "    <tr>\n",
       "      <th>1</th>\n",
       "      <td>9322eb4a-4132-4bd1-8df1-5cd3d1d2400b</td>\n",
       "      <td>User</td>\n",
       "      <td>Admin</td>\n",
       "    </tr>\n",
       "    <tr>\n",
       "      <th>2</th>\n",
       "      <td>b025341a-965a-4c35-b12e-2af63e5eb58f</td>\n",
       "      <td>User</td>\n",
       "      <td>Contributor</td>\n",
       "    </tr>\n",
       "    <tr>\n",
       "      <th>3</th>\n",
       "      <td>bde43861-55e1-4144-b572-be115312967f</td>\n",
       "      <td>ServicePrincipal</td>\n",
       "      <td>Admin</td>\n",
       "    </tr>\n",
       "  </tbody>\n",
       "</table>\n",
       "</div>"
      ],
      "text/plain": [
       "                              user_uuid         user_type         role\n",
       "0  cbe83b10-3b7c-4479-8168-e5281fabf7ea             Group        Admin\n",
       "1  9322eb4a-4132-4bd1-8df1-5cd3d1d2400b              User        Admin\n",
       "2  b025341a-965a-4c35-b12e-2af63e5eb58f              User  Contributor\n",
       "3  bde43861-55e1-4144-b572-be115312967f  ServicePrincipal        Admin"
      ]
     },
     "metadata": {},
     "output_type": "display_data"
    }
   ],
   "source": [
    "workspaces_roles_path = Path(root_path) / 'workspaces_roles.json'\n",
    "roles = pf.read_json(workspaces_roles_path) \n",
    "display(pf.json_to_df(roles))  "
   ]
  },
  {
   "cell_type": "code",
   "execution_count": 38,
   "id": "933e5e47",
   "metadata": {},
   "outputs": [
    {
     "name": "stdout",
     "output_type": "stream",
     "text": [
      "✓ Workspace PF_002_Fabric-DEV created successfully.\n",
      "✓ User \"cbe83b10-3b7c-4479-8168-e5281fabf7ea\", type \"Group\" with role \"Admin\" was added to workspace 0ae3ae7c-e2a9-407d-a92b-0bdc8799b9a8 successfully.\n",
      "✓ User \"9322eb4a-4132-4bd1-8df1-5cd3d1d2400b\", type \"User\" with role \"Admin\" was added to workspace 0ae3ae7c-e2a9-407d-a92b-0bdc8799b9a8 successfully.\n",
      "✓ User \"b025341a-965a-4c35-b12e-2af63e5eb58f\", type \"User\" with role \"Contributor\" was added to workspace 0ae3ae7c-e2a9-407d-a92b-0bdc8799b9a8 successfully.\n",
      "△ 409: {\"requestId\":\"9d5c7ede-acd4-4666-ad55-4d588c8e606b\",\"errorCode\":\"PrincipalAlreadyHasWorkspaceRolePermissions\",\"moreDetails\":[{\"relatedResource\":{\"resourceId\":\"bde43861-55e1-4144-b572-be115312967f\",\"resourceType\":\"Principal\"}}],\"message\":\"The provided principal already has a role assigned in the workspace\",\"relatedResource\":{\"resourceId\":\"0ae3ae7c-e2a9-407d-a92b-0bdc8799b9a8\",\"resourceType\":\"Workspace\"}}.\n"
     ]
    },
    {
     "data": {
      "application/vnd.microsoft.datawrangler.viewer.v0+json": {
       "columns": [
        {
         "name": "index",
         "rawType": "int64",
         "type": "integer"
        },
        {
         "name": "id",
         "rawType": "object",
         "type": "string"
        },
        {
         "name": "displayName",
         "rawType": "object",
         "type": "string"
        },
        {
         "name": "description",
         "rawType": "object",
         "type": "string"
        },
        {
         "name": "type",
         "rawType": "object",
         "type": "string"
        },
        {
         "name": "capacityId",
         "rawType": "object",
         "type": "string"
        },
        {
         "name": "capacityRegion",
         "rawType": "object",
         "type": "string"
        },
        {
         "name": "oneLakeEndpoints_blobEndpoint",
         "rawType": "object",
         "type": "string"
        },
        {
         "name": "oneLakeEndpoints_dfsEndpoint",
         "rawType": "object",
         "type": "string"
        },
        {
         "name": "capacityAssignmentProgress",
         "rawType": "object",
         "type": "string"
        }
       ],
       "ref": "f4ec1607-d11b-4ba0-bdd0-8d3d7dd135f3",
       "rows": [
        [
         "0",
         "0ae3ae7c-e2a9-407d-a92b-0bdc8799b9a8",
         "PF_002_Fabric-DEV",
         "CI/CD with Microsoft Fabric and PyFabricOps",
         "Workspace",
         "7732a1eb-3893-4642-a85c-93fc3f35d076",
         "East US",
         "https://eastus-onelake.blob.fabric.microsoft.com",
         "https://eastus-onelake.dfs.fabric.microsoft.com",
         "Completed"
        ]
       ],
       "shape": {
        "columns": 9,
        "rows": 1
       }
      },
      "text/html": [
       "<div>\n",
       "<style scoped>\n",
       "    .dataframe tbody tr th:only-of-type {\n",
       "        vertical-align: middle;\n",
       "    }\n",
       "\n",
       "    .dataframe tbody tr th {\n",
       "        vertical-align: top;\n",
       "    }\n",
       "\n",
       "    .dataframe thead th {\n",
       "        text-align: right;\n",
       "    }\n",
       "</style>\n",
       "<table border=\"1\" class=\"dataframe\">\n",
       "  <thead>\n",
       "    <tr style=\"text-align: right;\">\n",
       "      <th></th>\n",
       "      <th>id</th>\n",
       "      <th>displayName</th>\n",
       "      <th>description</th>\n",
       "      <th>type</th>\n",
       "      <th>capacityId</th>\n",
       "      <th>capacityRegion</th>\n",
       "      <th>oneLakeEndpoints_blobEndpoint</th>\n",
       "      <th>oneLakeEndpoints_dfsEndpoint</th>\n",
       "      <th>capacityAssignmentProgress</th>\n",
       "    </tr>\n",
       "  </thead>\n",
       "  <tbody>\n",
       "    <tr>\n",
       "      <th>0</th>\n",
       "      <td>0ae3ae7c-e2a9-407d-a92b-0bdc8799b9a8</td>\n",
       "      <td>PF_002_Fabric-DEV</td>\n",
       "      <td>CI/CD with Microsoft Fabric and PyFabricOps</td>\n",
       "      <td>Workspace</td>\n",
       "      <td>7732a1eb-3893-4642-a85c-93fc3f35d076</td>\n",
       "      <td>East US</td>\n",
       "      <td>https://eastus-onelake.blob.fabric.microsoft.com</td>\n",
       "      <td>https://eastus-onelake.dfs.fabric.microsoft.com</td>\n",
       "      <td>Completed</td>\n",
       "    </tr>\n",
       "  </tbody>\n",
       "</table>\n",
       "</div>"
      ],
      "text/plain": [
       "                                     id        displayName  \\\n",
       "0  0ae3ae7c-e2a9-407d-a92b-0bdc8799b9a8  PF_002_Fabric-DEV   \n",
       "\n",
       "                                   description       type  \\\n",
       "0  CI/CD with Microsoft Fabric and PyFabricOps  Workspace   \n",
       "\n",
       "                             capacityId capacityRegion  \\\n",
       "0  7732a1eb-3893-4642-a85c-93fc3f35d076        East US   \n",
       "\n",
       "                      oneLakeEndpoints_blobEndpoint  \\\n",
       "0  https://eastus-onelake.blob.fabric.microsoft.com   \n",
       "\n",
       "                      oneLakeEndpoints_dfsEndpoint capacityAssignmentProgress  \n",
       "0  https://eastus-onelake.dfs.fabric.microsoft.com                  Completed  "
      ]
     },
     "execution_count": 38,
     "metadata": {},
     "output_type": "execute_result"
    }
   ],
   "source": [
    "# Create the workspace\n",
    "\n",
    "pf.create_workspace(\n",
    "    workspace_name,\n",
    "    description='CI/CD with Microsoft Fabric and PyFabricOps',\n",
    "    capacity=capacity,\n",
    "    roles=roles,\n",
    "    df=True,\n",
    ")"
   ]
  },
  {
   "cell_type": "code",
   "execution_count": 42,
   "id": "94cbe60c",
   "metadata": {},
   "outputs": [
    {
     "name": "stdout",
     "output_type": "stream",
     "text": [
      "△ No existing config found at C:\\repos\\pyfabricops-demo-002-fabric\\src\\config.json, creating a new one.\n",
      "✓ Updated workspace_config for \"PF_002_Fabric\" in branch \"dev\"\n",
      "✓ Workspace configuration successfully written to C:\\repos\\pyfabricops-demo-002-fabric\\src\\config.json\n"
     ]
    }
   ],
   "source": [
    "# Create project\n",
    "pf.export_workspace_config(\n",
    "    workspace_name,\n",
    "    project_path,\n",
    "    branches_path=branches_path,\n",
    "    workspace_suffix=workspace_suffix\n",
    ") "
   ]
  },
  {
   "cell_type": "code",
   "execution_count": 50,
   "id": "45a14b31",
   "metadata": {},
   "outputs": [
    {
     "data": {
      "application/vnd.microsoft.datawrangler.viewer.v0+json": {
       "columns": [
        {
         "name": "index",
         "rawType": "int64",
         "type": "integer"
        },
        {
         "name": "id",
         "rawType": "object",
         "type": "string"
        },
        {
         "name": "displayName",
         "rawType": "object",
         "type": "string"
        },
        {
         "name": "workspaceId",
         "rawType": "object",
         "type": "string"
        }
       ],
       "ref": "62315415-b5f9-4046-be0f-9c7f819d2e00",
       "rows": [
        [
         "0",
         "4617f283-43b9-498a-96bc-3078391adcfb",
         "Storage",
         "0ae3ae7c-e2a9-407d-a92b-0bdc8799b9a8"
        ]
       ],
       "shape": {
        "columns": 3,
        "rows": 1
       }
      },
      "text/html": [
       "<div>\n",
       "<style scoped>\n",
       "    .dataframe tbody tr th:only-of-type {\n",
       "        vertical-align: middle;\n",
       "    }\n",
       "\n",
       "    .dataframe tbody tr th {\n",
       "        vertical-align: top;\n",
       "    }\n",
       "\n",
       "    .dataframe thead th {\n",
       "        text-align: right;\n",
       "    }\n",
       "</style>\n",
       "<table border=\"1\" class=\"dataframe\">\n",
       "  <thead>\n",
       "    <tr style=\"text-align: right;\">\n",
       "      <th></th>\n",
       "      <th>id</th>\n",
       "      <th>displayName</th>\n",
       "      <th>workspaceId</th>\n",
       "    </tr>\n",
       "  </thead>\n",
       "  <tbody>\n",
       "    <tr>\n",
       "      <th>0</th>\n",
       "      <td>4617f283-43b9-498a-96bc-3078391adcfb</td>\n",
       "      <td>Storage</td>\n",
       "      <td>0ae3ae7c-e2a9-407d-a92b-0bdc8799b9a8</td>\n",
       "    </tr>\n",
       "  </tbody>\n",
       "</table>\n",
       "</div>"
      ],
      "text/plain": [
       "                                     id displayName  \\\n",
       "0  4617f283-43b9-498a-96bc-3078391adcfb     Storage   \n",
       "\n",
       "                            workspaceId  \n",
       "0  0ae3ae7c-e2a9-407d-a92b-0bdc8799b9a8  "
      ]
     },
     "metadata": {},
     "output_type": "display_data"
    },
    {
     "name": "stdout",
     "output_type": "stream",
     "text": [
      "Folder `storage` created with id:  4617f283-43b9-498a-96bc-3078391adcfb\n"
     ]
    }
   ],
   "source": [
    "# Create `storage` folder\n",
    "storage_folder = pf.create_folder(\n",
    "    workspace_name,\n",
    "    'Storage',\n",
    ")\n",
    "storage_folder_id = storage_folder['id'] \n",
    "display(pf.json_to_df(storage_folder))\n",
    "print('Folder `storage` created with id: ', storage_folder_id) "
   ]
  },
  {
   "cell_type": "code",
   "execution_count": 51,
   "id": "ebb4870a",
   "metadata": {},
   "outputs": [
    {
     "data": {
      "application/vnd.microsoft.datawrangler.viewer.v0+json": {
       "columns": [
        {
         "name": "index",
         "rawType": "int64",
         "type": "integer"
        },
        {
         "name": "id",
         "rawType": "object",
         "type": "string"
        },
        {
         "name": "displayName",
         "rawType": "object",
         "type": "string"
        },
        {
         "name": "workspaceId",
         "rawType": "object",
         "type": "string"
        }
       ],
       "ref": "37b24aa4-0bd0-495c-96de-cdcf80e35ddb",
       "rows": [
        [
         "0",
         "1813457d-633a-46bc-bd65-7afb6a563195",
         "Orchestration",
         "0ae3ae7c-e2a9-407d-a92b-0bdc8799b9a8"
        ]
       ],
       "shape": {
        "columns": 3,
        "rows": 1
       }
      },
      "text/html": [
       "<div>\n",
       "<style scoped>\n",
       "    .dataframe tbody tr th:only-of-type {\n",
       "        vertical-align: middle;\n",
       "    }\n",
       "\n",
       "    .dataframe tbody tr th {\n",
       "        vertical-align: top;\n",
       "    }\n",
       "\n",
       "    .dataframe thead th {\n",
       "        text-align: right;\n",
       "    }\n",
       "</style>\n",
       "<table border=\"1\" class=\"dataframe\">\n",
       "  <thead>\n",
       "    <tr style=\"text-align: right;\">\n",
       "      <th></th>\n",
       "      <th>id</th>\n",
       "      <th>displayName</th>\n",
       "      <th>workspaceId</th>\n",
       "    </tr>\n",
       "  </thead>\n",
       "  <tbody>\n",
       "    <tr>\n",
       "      <th>0</th>\n",
       "      <td>1813457d-633a-46bc-bd65-7afb6a563195</td>\n",
       "      <td>Orchestration</td>\n",
       "      <td>0ae3ae7c-e2a9-407d-a92b-0bdc8799b9a8</td>\n",
       "    </tr>\n",
       "  </tbody>\n",
       "</table>\n",
       "</div>"
      ],
      "text/plain": [
       "                                     id    displayName  \\\n",
       "0  1813457d-633a-46bc-bd65-7afb6a563195  Orchestration   \n",
       "\n",
       "                            workspaceId  \n",
       "0  0ae3ae7c-e2a9-407d-a92b-0bdc8799b9a8  "
      ]
     },
     "metadata": {},
     "output_type": "display_data"
    },
    {
     "name": "stdout",
     "output_type": "stream",
     "text": [
      "Folder `Orchestration` created with id:  1813457d-633a-46bc-bd65-7afb6a563195\n"
     ]
    }
   ],
   "source": [
    "# Create `Orchestration` folder\n",
    "orchestration_folder = pf.create_folder(\n",
    "    workspace_name,\n",
    "    'Orchestration',\n",
    ")\n",
    "orchestration_folder_id = orchestration_folder['id'] \n",
    "display(pf.json_to_df(orchestration_folder))\n",
    "print('Folder `Orchestration` created with id: ', orchestration_folder_id) "
   ]
  },
  {
   "cell_type": "code",
   "execution_count": 52,
   "id": "d9ca9bb1",
   "metadata": {},
   "outputs": [
    {
     "data": {
      "application/vnd.microsoft.datawrangler.viewer.v0+json": {
       "columns": [
        {
         "name": "index",
         "rawType": "int64",
         "type": "integer"
        },
        {
         "name": "id",
         "rawType": "object",
         "type": "string"
        },
        {
         "name": "displayName",
         "rawType": "object",
         "type": "string"
        },
        {
         "name": "workspaceId",
         "rawType": "object",
         "type": "string"
        }
       ],
       "ref": "d7c0c8a5-1f25-4bbc-904b-c6a5f48f7a7b",
       "rows": [
        [
         "0",
         "704abe3c-4c90-4a82-b5e9-55b8d046a452",
         "PowerBI",
         "0ae3ae7c-e2a9-407d-a92b-0bdc8799b9a8"
        ]
       ],
       "shape": {
        "columns": 3,
        "rows": 1
       }
      },
      "text/html": [
       "<div>\n",
       "<style scoped>\n",
       "    .dataframe tbody tr th:only-of-type {\n",
       "        vertical-align: middle;\n",
       "    }\n",
       "\n",
       "    .dataframe tbody tr th {\n",
       "        vertical-align: top;\n",
       "    }\n",
       "\n",
       "    .dataframe thead th {\n",
       "        text-align: right;\n",
       "    }\n",
       "</style>\n",
       "<table border=\"1\" class=\"dataframe\">\n",
       "  <thead>\n",
       "    <tr style=\"text-align: right;\">\n",
       "      <th></th>\n",
       "      <th>id</th>\n",
       "      <th>displayName</th>\n",
       "      <th>workspaceId</th>\n",
       "    </tr>\n",
       "  </thead>\n",
       "  <tbody>\n",
       "    <tr>\n",
       "      <th>0</th>\n",
       "      <td>704abe3c-4c90-4a82-b5e9-55b8d046a452</td>\n",
       "      <td>PowerBI</td>\n",
       "      <td>0ae3ae7c-e2a9-407d-a92b-0bdc8799b9a8</td>\n",
       "    </tr>\n",
       "  </tbody>\n",
       "</table>\n",
       "</div>"
      ],
      "text/plain": [
       "                                     id displayName  \\\n",
       "0  704abe3c-4c90-4a82-b5e9-55b8d046a452     PowerBI   \n",
       "\n",
       "                            workspaceId  \n",
       "0  0ae3ae7c-e2a9-407d-a92b-0bdc8799b9a8  "
      ]
     },
     "metadata": {},
     "output_type": "display_data"
    },
    {
     "name": "stdout",
     "output_type": "stream",
     "text": [
      "Folder `PowerBI` created with id:  704abe3c-4c90-4a82-b5e9-55b8d046a452\n"
     ]
    }
   ],
   "source": [
    "# Create `PowerBI` folder\n",
    "powerbi_folder = pf.create_folder(\n",
    "    workspace_name,\n",
    "    'PowerBI',\n",
    ")\n",
    "powerbi_folder_id = powerbi_folder['id'] \n",
    "display(pf.json_to_df(powerbi_folder))\n",
    "print('Folder `PowerBI` created with id: ', powerbi_folder_id) "
   ]
  },
  {
   "cell_type": "code",
   "execution_count": 53,
   "id": "0bf5437b",
   "metadata": {},
   "outputs": [
    {
     "name": "stdout",
     "output_type": "stream",
     "text": [
      "Folder `DirectLake` created with id: e38f6560-e5e8-4884-b227-c3e185d5249b under `PowerBI`\n",
      "Folder `Import` created with id: 337bb477-27a9-4871-974f-65d2d116ee88 under `PowerBI`\n"
     ]
    }
   ],
   "source": [
    "# Create subfolders `DirectLake` and `Import` \n",
    "subfolders = ['DirectLake', 'Import']\n",
    "parent_folder_id = powerbi_folder_id \n",
    "for subfolder in subfolders:\n",
    "    subfolder_created = pf.create_folder(\n",
    "        workspace_name, \n",
    "        subfolder, \n",
    "        parent_folder=powerbi_folder_id,\n",
    "    )\n",
    "    subfolder_created_id = subfolder_created['id']\n",
    "    print(f'Folder `{subfolder}` created with id: {subfolder_created_id} under `PowerBI`')  \n"
   ]
  },
  {
   "cell_type": "code",
   "execution_count": 54,
   "id": "c42f5c45",
   "metadata": {},
   "outputs": [
    {
     "name": "stdout",
     "output_type": "stream",
     "text": [
      "✓ Folder structure created at C:/repos/pyfabricops-demo-002-fabric/src/PF_002_Fabric\n",
      "✓ Updated folders config for workspace \"PF_002_Fabric\" in branch \"dev\"\n",
      "✓ Folders configuration successfully written to C:\\repos\\pyfabricops-demo-002-fabric\\src\\config.json.\n"
     ]
    }
   ],
   "source": [
    "# Export folders to config\n",
    "pf.export_folders(\n",
    "    workspace_name,\n",
    "    project_path,\n",
    "    branches_path=branches_path,\n",
    "    workspace_suffix=workspace_suffix\n",
    ") "
   ]
  },
  {
   "cell_type": "code",
   "execution_count": null,
   "id": "638cb9df",
   "metadata": {},
   "outputs": [
    {
     "name": "stdout",
     "output_type": "stream",
     "text": [
      "{'dev': {'PF_002_Fabric': {'workspace_config': {'workspace_id': '0ae3ae7c-e2a9-407d-a92b-0bdc8799b9a8', 'workspace_name': 'PF_002_Fabric-DEV', 'workspace_description': 'CI/CD with Microsoft Fabric and PyFabricOps', 'capacity_id': '7732a1eb-3893-4642-a85c-93fc3f35d076', 'capacity_region': 'East US', 'workspace_roles': [{'user_uuid': 'cbe83b10-3b7c-4479-8168-e5281fabf7ea', 'user_type': 'Group', 'role': 'Admin', 'display_name': 'AppFabricUsers', 'group_type': 'SecurityGroup', 'email': None}, {'user_uuid': '9322eb4a-4132-4bd1-8df1-5cd3d1d2400b', 'user_type': 'User', 'role': 'Admin', 'display_name': 'Alison Pezzott', 'user_principal_name': 'alison.pezzott@overdax.com'}, {'user_uuid': 'b025341a-965a-4c35-b12e-2af63e5eb58f', 'user_type': 'User', 'role': 'Contributor', 'display_name': 'Dev', 'user_principal_name': 'dev@overdax.com'}, {'user_uuid': 'bde43861-55e1-4144-b572-be115312967f', 'user_type': 'ServicePrincipal', 'role': 'Admin', 'display_name': 'AppFabric', 'app_id': '7f3c52e1-46fa-4d5d-880b-c1e721a1f729'}]}, 'folders': {'Orchestration': '1813457d-633a-46bc-bd65-7afb6a563195', 'PowerBI': '704abe3c-4c90-4a82-b5e9-55b8d046a452', 'Storage': '4617f283-43b9-498a-96bc-3078391adcfb', 'PowerBI/DirectLake': 'e38f6560-e5e8-4884-b227-c3e185d5249b', 'PowerBI/Import': '337bb477-27a9-4871-974f-65d2d116ee88'}}}}\n"
     ]
    }
   ],
   "source": [
    "# Load config\n",
    "config_path = Path(project_path)/'config.json'\n",
    "config = pf.read_json(config_path)"
   ]
  },
  {
   "cell_type": "code",
   "execution_count": null,
   "id": "b209915f",
   "metadata": {},
   "outputs": [],
   "source": [
    "workspace_id = config[branch][workspace_alias]['workspace_config']['workspace_id']\n",
    "storage_folder_id_c = config[branch][workspace_alias]['folders']['Storage'] "
   ]
  },
  {
   "cell_type": "code",
   "execution_count": 58,
   "id": "52b91f4c",
   "metadata": {},
   "outputs": [
    {
     "name": "stdout",
     "output_type": "stream",
     "text": [
      "△ No valid lakehouses found in workspace '0ae3ae7c-e2a9-407d-a92b-0bdc8799b9a8'.\n"
     ]
    },
    {
     "data": {
      "application/vnd.microsoft.datawrangler.viewer.v0+json": {
       "columns": [
        {
         "name": "index",
         "rawType": "int64",
         "type": "integer"
        },
        {
         "name": "id",
         "rawType": "object",
         "type": "string"
        },
        {
         "name": "type",
         "rawType": "object",
         "type": "string"
        },
        {
         "name": "displayName",
         "rawType": "object",
         "type": "string"
        },
        {
         "name": "description",
         "rawType": "object",
         "type": "string"
        },
        {
         "name": "workspaceId",
         "rawType": "object",
         "type": "string"
        },
        {
         "name": "folderId",
         "rawType": "object",
         "type": "string"
        }
       ],
       "ref": "fc50ed49-de1d-4a42-8c78-50f8f7529a3a",
       "rows": [
        [
         "0",
         "78c4f663-1bda-4d19-9827-1e16eea65b6c",
         "Lakehouse",
         "MainStorage",
         "The main storage of the lakehouse",
         "0ae3ae7c-e2a9-407d-a92b-0bdc8799b9a8",
         "4617f283-43b9-498a-96bc-3078391adcfb"
        ]
       ],
       "shape": {
        "columns": 6,
        "rows": 1
       }
      },
      "text/html": [
       "<div>\n",
       "<style scoped>\n",
       "    .dataframe tbody tr th:only-of-type {\n",
       "        vertical-align: middle;\n",
       "    }\n",
       "\n",
       "    .dataframe tbody tr th {\n",
       "        vertical-align: top;\n",
       "    }\n",
       "\n",
       "    .dataframe thead th {\n",
       "        text-align: right;\n",
       "    }\n",
       "</style>\n",
       "<table border=\"1\" class=\"dataframe\">\n",
       "  <thead>\n",
       "    <tr style=\"text-align: right;\">\n",
       "      <th></th>\n",
       "      <th>id</th>\n",
       "      <th>type</th>\n",
       "      <th>displayName</th>\n",
       "      <th>description</th>\n",
       "      <th>workspaceId</th>\n",
       "      <th>folderId</th>\n",
       "    </tr>\n",
       "  </thead>\n",
       "  <tbody>\n",
       "    <tr>\n",
       "      <th>0</th>\n",
       "      <td>78c4f663-1bda-4d19-9827-1e16eea65b6c</td>\n",
       "      <td>Lakehouse</td>\n",
       "      <td>MainStorage</td>\n",
       "      <td>The main storage of the lakehouse</td>\n",
       "      <td>0ae3ae7c-e2a9-407d-a92b-0bdc8799b9a8</td>\n",
       "      <td>4617f283-43b9-498a-96bc-3078391adcfb</td>\n",
       "    </tr>\n",
       "  </tbody>\n",
       "</table>\n",
       "</div>"
      ],
      "text/plain": [
       "                                     id       type  displayName  \\\n",
       "0  78c4f663-1bda-4d19-9827-1e16eea65b6c  Lakehouse  MainStorage   \n",
       "\n",
       "                         description                           workspaceId  \\\n",
       "0  The main storage of the lakehouse  0ae3ae7c-e2a9-407d-a92b-0bdc8799b9a8   \n",
       "\n",
       "                               folderId  \n",
       "0  4617f283-43b9-498a-96bc-3078391adcfb  "
      ]
     },
     "execution_count": 58,
     "metadata": {},
     "output_type": "execute_result"
    }
   ],
   "source": [
    "# Create lakehouse\n",
    "pf.create_lakehouse(\n",
    "    workspace_id,\n",
    "    'MainStorage', \n",
    "    description='The main storage of the lakehouse',  \n",
    "    folder=storage_folder_id_c,\n",
    "    df=True\n",
    ")"
   ]
  },
  {
   "cell_type": "code",
   "execution_count": 60,
   "id": "87e2b50f",
   "metadata": {},
   "outputs": [
    {
     "name": "stdout",
     "output_type": "stream",
     "text": [
      "i Found existing config file at C:\\repos\\pyfabricops-demo-002-fabric\\src\\config.json, merging workspace config...\n"
     ]
    }
   ],
   "source": [
    "# Export lakehouse to config\n",
    "pf.export_lakehouse(\n",
    "    workspace_id,\n",
    "    'MainStorage',\n",
    "    project_path,\n",
    "    workspace_path=workspace_alias,\n",
    "    branches_path=branches_path,\n",
    "    workspace_suffix=workspace_suffix,\n",
    ")"
   ]
  },
  {
   "cell_type": "code",
   "execution_count": 61,
   "id": "47c1f78b",
   "metadata": {},
   "outputs": [
    {
     "name": "stdout",
     "output_type": "stream",
     "text": [
      "△ No valid warehouses found in workspace '0ae3ae7c-e2a9-407d-a92b-0bdc8799b9a8'.\n"
     ]
    }
   ],
   "source": [
    "# Create warehouse\n",
    "pf.create_warehouse(\n",
    "    workspace_id,\n",
    "    'MainWarehouse', \n",
    "    description='The SQL instance for the project',  \n",
    "    folder=storage_folder_id_c,\n",
    "    df=True\n",
    ")"
   ]
  },
  {
   "cell_type": "code",
   "execution_count": 63,
   "id": "020a5a35",
   "metadata": {},
   "outputs": [
    {
     "name": "stdout",
     "output_type": "stream",
     "text": [
      "i Found existing config file at C:\\repos\\pyfabricops-demo-002-fabric\\src\\config.json, merging workspace config...\n"
     ]
    }
   ],
   "source": [
    "# Export warehouse to config\n",
    "pf.export_warehouse(\n",
    "    workspace_id,\n",
    "    'MainWarehouse',\n",
    "    project_path,\n",
    "    workspace_path=workspace_alias,\n",
    "    branches_path=branches_path,\n",
    "    workspace_suffix=workspace_suffix,\n",
    ")"
   ]
  }
 ],
 "metadata": {
  "kernelspec": {
   "display_name": "Python 3",
   "language": "python",
   "name": "python3"
  },
  "language_info": {
   "codemirror_mode": {
    "name": "ipython",
    "version": 3
   },
   "file_extension": ".py",
   "mimetype": "text/x-python",
   "name": "python",
   "nbconvert_exporter": "python",
   "pygments_lexer": "ipython3",
   "version": "3.12.10"
  }
 },
 "nbformat": 4,
 "nbformat_minor": 5
}
