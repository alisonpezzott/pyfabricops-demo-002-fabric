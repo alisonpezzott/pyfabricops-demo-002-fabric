{
 "cells": [
  {
   "cell_type": "code",
   "execution_count": null,
   "id": "534ae817",
   "metadata": {},
   "outputs": [],
   "source": [
    "# Imports\n",
    "from dotenv import load_dotenv\n",
    "import pyfabricops as pf\n",
    "import os\n",
    "from pathlib import Path\n",
    "\n",
    "\n",
    "# Setups\n",
    "pf.set_auth_provider('env')\n",
    "pf.setup_logging(format_style='minimal', level='info') "
   ]
  },
  {
   "cell_type": "code",
   "execution_count": null,
   "id": "1dee46b3",
   "metadata": {},
   "outputs": [],
   "source": [
    "# Find root path\n",
    "def find_root_path(\n",
    "    start: Path = None,\n",
    "    markers: list[str] = None\n",
    ") -> Path:\n",
    "    start = (start or Path.cwd()).resolve()\n",
    "    markers = markers or [\n",
    "        \".git\",         \n",
    "        \".gitignore\",\n",
    "    ]\n",
    "    for directory in [start, *start.parents]:\n",
    "        for m in markers:\n",
    "            if (directory / m).exists():\n",
    "                return directory\n",
    "    return start\n",
    "\n",
    "root_path = find_root_path()\n",
    "print(f\"Root path: {root_path}\")"
   ]
  },
  {
   "cell_type": "code",
   "execution_count": null,
   "id": "cbca57f1",
   "metadata": {},
   "outputs": [],
   "source": [
    "# Capture git info\n",
    "branches_path = Path(root_path) / 'branches.json'\n",
    "branch = pf.get_current_branch()\n",
    "workspace_suffix = pf.get_workspace_suffix(branch, path = branches_path) \n",
    "print('Branch:', branch, 'Workspace Suffix:', workspace_suffix) "
   ]
  },
  {
   "cell_type": "code",
   "execution_count": null,
   "id": "b393f0fb",
   "metadata": {},
   "outputs": [],
   "source": [
    "# Project config\n",
    "project = 'PF_002_Fabric'\n",
    "project_path = Path(root_path)/'src'\n",
    "workspace_alias ='PF_002_Fabric'\n",
    "workspace_name = workspace_alias + workspace_suffix\n",
    "capacity = '7732a1eb-3893-4642-a85c-93fc3f35d076' \n",
    "print('Workspace name: ', workspace_name) "
   ]
  },
  {
   "cell_type": "code",
   "execution_count": null,
   "id": "fb0e79bf",
   "metadata": {},
   "outputs": [],
   "source": [
    "workspaces_roles_path = Path(root_path) / 'workspaces_roles.json'\n",
    "roles = pf.read_json(workspaces_roles_path) \n",
    "display(pf.json_to_df(roles))  "
   ]
  },
  {
   "cell_type": "code",
   "execution_count": null,
   "id": "933e5e47",
   "metadata": {},
   "outputs": [],
   "source": [
    "# Create the workspace\n",
    "\n",
    "pf.create_workspace(\n",
    "    workspace_name,\n",
    "    description='CI/CD with Microsoft Fabric and PyFabricOps',\n",
    "    capacity=capacity,\n",
    "    roles=roles,\n",
    "    df=True,\n",
    ")"
   ]
  },
  {
   "cell_type": "code",
   "execution_count": null,
   "id": "94cbe60c",
   "metadata": {},
   "outputs": [],
   "source": [
    "# Create project\n",
    "pf.export_workspace_config(\n",
    "    workspace_name,\n",
    "    project_path,\n",
    "    branches_path=branches_path,\n",
    "    workspace_suffix=workspace_suffix\n",
    ") "
   ]
  },
  {
   "cell_type": "code",
   "execution_count": null,
   "id": "45a14b31",
   "metadata": {},
   "outputs": [],
   "source": [
    "# Create `storage` folder\n",
    "storage_folder = pf.create_folder(\n",
    "    workspace_name,\n",
    "    'Storage',\n",
    ")\n",
    "storage_folder_id = storage_folder['id'] \n",
    "display(pf.json_to_df(storage_folder))\n",
    "print('Folder `storage` created with id: ', storage_folder_id) "
   ]
  },
  {
   "cell_type": "code",
   "execution_count": null,
   "id": "ebb4870a",
   "metadata": {},
   "outputs": [],
   "source": [
    "# Create `Orchestration` folder\n",
    "orchestration_folder = pf.create_folder(\n",
    "    workspace_name,\n",
    "    'Orchestration',\n",
    ")\n",
    "orchestration_folder_id = orchestration_folder['id'] \n",
    "display(pf.json_to_df(orchestration_folder))\n",
    "print('Folder `Orchestration` created with id: ', orchestration_folder_id) "
   ]
  },
  {
   "cell_type": "code",
   "execution_count": null,
   "id": "d9ca9bb1",
   "metadata": {},
   "outputs": [],
   "source": [
    "# Create `PowerBI` folder\n",
    "powerbi_folder = pf.create_folder(\n",
    "    workspace_name,\n",
    "    'PowerBI',\n",
    ")\n",
    "powerbi_folder_id = powerbi_folder['id'] \n",
    "display(pf.json_to_df(powerbi_folder))\n",
    "print('Folder `PowerBI` created with id: ', powerbi_folder_id) "
   ]
  },
  {
   "cell_type": "code",
   "execution_count": null,
   "id": "0bf5437b",
   "metadata": {},
   "outputs": [],
   "source": [
    "# Create subfolders `DirectLake` and `Import` \n",
    "subfolders = ['DirectLake', 'Import']\n",
    "parent_folder_id = powerbi_folder_id \n",
    "for subfolder in subfolders:\n",
    "    subfolder_created = pf.create_folder(\n",
    "        workspace_name, \n",
    "        subfolder, \n",
    "        parent_folder=powerbi_folder_id,\n",
    "    )\n",
    "    subfolder_created_id = subfolder_created['id']\n",
    "    print(f'Folder `{subfolder}` created with id: {subfolder_created_id} under `PowerBI`')  \n"
   ]
  },
  {
   "cell_type": "code",
   "execution_count": null,
   "id": "c42f5c45",
   "metadata": {},
   "outputs": [],
   "source": [
    "# Export folders to config\n",
    "pf.export_folders(\n",
    "    workspace_name,\n",
    "    project_path,\n",
    "    branches_path=branches_path,\n",
    "    workspace_suffix=workspace_suffix\n",
    ") "
   ]
  },
  {
   "cell_type": "code",
   "execution_count": null,
   "id": "638cb9df",
   "metadata": {},
   "outputs": [],
   "source": [
    "# Load config\n",
    "config_path = Path(project_path)/'config.json'\n",
    "config = pf.read_json(config_path)"
   ]
  },
  {
   "cell_type": "code",
   "execution_count": null,
   "id": "b209915f",
   "metadata": {},
   "outputs": [],
   "source": [
    "workspace_id = config[branch][workspace_alias]['workspace_config']['workspace_id']\n",
    "storage_folder_id_c = config[branch][workspace_alias]['folders']['Storage'] "
   ]
  },
  {
   "cell_type": "code",
   "execution_count": null,
   "id": "52b91f4c",
   "metadata": {},
   "outputs": [],
   "source": [
    "# Create lakehouse\n",
    "pf.create_lakehouse(\n",
    "    workspace_id,\n",
    "    'MainStorage', \n",
    "    description='The main storage of the lakehouse',  \n",
    "    folder=storage_folder_id_c,\n",
    "    df=True\n",
    ")"
   ]
  },
  {
   "cell_type": "code",
   "execution_count": null,
   "id": "87e2b50f",
   "metadata": {},
   "outputs": [],
   "source": [
    "# Export lakehouse to config\n",
    "pf.export_lakehouse(\n",
    "    workspace_id,\n",
    "    'MainStorage',\n",
    "    project_path,\n",
    "    workspace_path=workspace_alias,\n",
    "    branches_path=branches_path,\n",
    "    workspace_suffix=workspace_suffix,\n",
    ")"
   ]
  },
  {
   "cell_type": "code",
   "execution_count": null,
   "id": "47c1f78b",
   "metadata": {},
   "outputs": [],
   "source": [
    "# Create warehouse\n",
    "pf.create_warehouse(\n",
    "    workspace_id,\n",
    "    'MainWarehouse', \n",
    "    description='The SQL instance for the project',  \n",
    "    folder=storage_folder_id_c,\n",
    "    df=True\n",
    ")"
   ]
  },
  {
   "cell_type": "code",
   "execution_count": null,
   "id": "020a5a35",
   "metadata": {},
   "outputs": [],
   "source": [
    "# Export warehouse to config\n",
    "pf.export_warehouse(\n",
    "    workspace_id,\n",
    "    'MainWarehouse',\n",
    "    project_path,\n",
    "    workspace_path=workspace_alias,\n",
    "    branches_path=branches_path,\n",
    "    workspace_suffix=workspace_suffix,\n",
    ")"
   ]
  },
  {
   "cell_type": "code",
   "execution_count": null,
   "id": "d718dd87",
   "metadata": {},
   "outputs": [],
   "source": [
    "# Create GitHub connection\n",
    "\n",
    "from pyfabricops import get_connection\n",
    "\n",
    "\n",
    "load_dotenv() \n",
    "github_token = os.getenv('GH_TOKEN') \n",
    "\n",
    "github_connection = pf.create_github_source_control_connection(\n",
    "    'PF_002_Fabric',\n",
    "    'https://github.com/alisonpezzott/pyfabricops-demo-002-fabric',\n",
    "    github_token,\n",
    ") \n",
    "\n",
    "if github_connection:\n",
    "    github_connection_id = github_connection['id']\n",
    "else:\n",
    "    github_connection_id = get_connection('PF_002_Fabric')['id'] \n",
    "\n",
    "print('GitHub Connection: ', github_connection_id) \n"
   ]
  },
  {
   "cell_type": "code",
   "execution_count": null,
   "id": "62300a97",
   "metadata": {},
   "outputs": [],
   "source": [
    "connections_roles_path = Path(root_path) / 'connections_roles.json'\n",
    "connections_roles = pf.read_json(connections_roles_path) \n",
    "display(pf.json_to_df(connections_roles))  "
   ]
  },
  {
   "cell_type": "code",
   "execution_count": null,
   "id": "3042edbd",
   "metadata": {},
   "outputs": [],
   "source": [
    "# Add roles to connection\n",
    "roles_added = []\n",
    "for role in connections_roles:\n",
    "    role_added = pf.add_connection_role_assignment(\n",
    "        github_connection_id, \n",
    "        role['user_uuid'], \n",
    "        role['user_type'], \n",
    "        role['role']\n",
    "    )\n",
    "    if role_added:\n",
    "        roles_added.append(role_added)\n",
    "\n",
    "if roles_added:\n",
    "    print('Added roles')\n",
    "    display(pf.json_to_df(roles_added)) \n",
    "else:\n",
    "    print('Current roles')\n",
    "    current_connection_roles = pf.list_connection_role_assignments(github_connection_id, df=True) \n",
    "    display(current_connection_roles) "
   ]
  },
  {
   "cell_type": "code",
   "execution_count": null,
   "id": "50f56161",
   "metadata": {},
   "outputs": [],
   "source": [
    "# Connect workspace to git repository\n",
    "pf.github_connect(\n",
    "    workspace_id,\n",
    "    github_connection_id,\n",
    "    owner_name='alisonpezzott',\n",
    "    repository_name='pyfabricops-demo-002-fabric',\n",
    "    branch_name=branch,\n",
    "    directory_name='src/' + workspace_alias\n",
    ")\n"
   ]
  },
  {
   "cell_type": "code",
   "execution_count": null,
   "id": "44e779f6",
   "metadata": {},
   "outputs": [],
   "source": [
    "# Init Git\n",
    "pf.git_init(workspace_id) "
   ]
  },
  {
   "cell_type": "code",
   "execution_count": null,
   "id": "cec23394",
   "metadata": {},
   "outputs": [],
   "source": [
    "# Commit to git\n",
    "pf.commit_to_git(\n",
    "    workspace_id,\n",
    "    df=True,\n",
    ")"
   ]
  },
  {
   "cell_type": "code",
   "execution_count": null,
   "id": "7092a86b",
   "metadata": {},
   "outputs": [],
   "source": [
    "# Check status\n",
    "pf.git_status(workspace_id) "
   ]
  }
 ],
 "metadata": {
  "kernelspec": {
   "display_name": "Python 3",
   "language": "python",
   "name": "python3"
  },
  "language_info": {
   "codemirror_mode": {
    "name": "ipython",
    "version": 3
   },
   "file_extension": ".py",
   "mimetype": "text/x-python",
   "name": "python",
   "nbconvert_exporter": "python",
   "pygments_lexer": "ipython3",
   "version": "3.12.10"
  }
 },
 "nbformat": 4,
 "nbformat_minor": 5
}
