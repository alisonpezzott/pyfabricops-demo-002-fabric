{
 "cells": [
  {
   "cell_type": "code",
   "execution_count": 1,
   "id": "bdb10dc9",
   "metadata": {},
   "outputs": [],
   "source": [
    "import sys\n",
    "import os\n",
    "\n",
    "# Ensure the parent directory is in the path for module imports\n",
    "sys.path.insert(0, os.path.abspath(os.path.join(os.path.dirname(\"..\"), \"..\")))\n",
    "\n",
    "# Import necessary modules from the bootstrap script\n",
    "from scripts.bootstrap import (\n",
    "    pf, \n",
    "    branch, workspace_alias, workspace_suffix, workspace_name, config_path\n",
    ")"
   ]
  },
  {
   "cell_type": "code",
   "execution_count": 4,
   "id": "602b9483",
   "metadata": {},
   "outputs": [],
   "source": [
    "capacity_id = '7732a1eb-3893-4642-a85c-93fc3f35d076' "
   ]
  },
  {
   "cell_type": "code",
   "execution_count": null,
   "id": "437cd4f6",
   "metadata": {},
   "outputs": [],
   "source": []
  }
 ],
 "metadata": {
  "kernelspec": {
   "display_name": "Python 3",
   "language": "python",
   "name": "python3"
  },
  "language_info": {
   "codemirror_mode": {
    "name": "ipython",
    "version": 3
   },
   "file_extension": ".py",
   "mimetype": "text/x-python",
   "name": "python",
   "nbconvert_exporter": "python",
   "pygments_lexer": "ipython3",
   "version": "3.12.10"
  }
 },
 "nbformat": 4,
 "nbformat_minor": 5
}
